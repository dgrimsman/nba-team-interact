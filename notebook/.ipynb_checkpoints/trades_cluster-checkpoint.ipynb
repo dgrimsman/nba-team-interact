{
 "cells": [
  {
   "cell_type": "code",
   "execution_count": 1,
   "metadata": {
    "collapsed": false,
    "deletable": true,
    "editable": true
   },
   "outputs": [],
   "source": [
    "# cluster the teams by players on the roster\n",
    "import pandas as pd\n",
    "\n",
    "d = {}\n",
    "teams = set()\n",
    "f = open('../csv/rosters_75-84.csv', 'r')\n",
    "s = f.readline()\n",
    "while s:\n",
    "    ls = s.split(',')\n",
    "    player = ls[0][2:]\n",
    "    team = ls[1][:-3]\n",
    "    #print('{},{}'.format(ls[0][2:], ls[1][:-3]))\n",
    "    if player not in d:\n",
    "        d[player] = {}\n",
    "    if team not in d[player]:\n",
    "        d[player][team] = {}\n",
    "        teams.add(team)\n",
    "    s = f.readline()\n",
    "f.close()\n",
    "\n",
    "from sklearn.cluster.bicluster import SpectralCoclustering\n",
    "import numpy as np\n",
    "\n",
    "data = np.zeros((len(d), len(teams)))\n",
    "for i, player in enumerate(d):\n",
    "    for j, team in enumerate(teams):\n",
    "        if team in d[player]:\n",
    "            data[i, j] = 1\n",
    "\n",
    "model = SpectralCoclustering(n_clusters=6, random_state=0)\n",
    "model.fit(data)\n",
    "player_labels = model.column_labels_"
   ]
  },
  {
   "cell_type": "code",
   "execution_count": 8,
   "metadata": {
    "collapsed": false,
    "deletable": true,
    "editable": true
   },
   "outputs": [],
   "source": [
    "# cluster the teams with community detection on trades\n",
    "import community as com\n",
    "import networkx as nx\n",
    "import pandas as pd\n",
    "import numpy as np\n",
    "\n",
    "df = pd.read_csv('../csv/trades_75-.csv', header=None)\n",
    "df.columns = ['source', 'target', 'weight']\n",
    "teams = np.unique(df['source'].values)\n",
    "d2 = {}\n",
    "for i, team1 in enumerate(teams):\n",
    "    for j in range(i, len(teams)):\n",
    "        team2 = teams[j]\n",
    "        w = 0\n",
    "        if len(df[(df['source'] == team1) & (df['target'] == team2)].values) > 0:\n",
    "            w += df[(df['source'] == team1) & (df['target'] == team2)]['weight'].values[0]\n",
    "        if len(df[(df['source'] == team2) & (df['target'] == team1)].values) > 0:\n",
    "            w += df[(df['source'] == team2) & (df['target'] == team1)]['weight'].values[0]\n",
    "        if w != 0:\n",
    "            if team1 not in d2:\n",
    "                d2[team1] = {}\n",
    "            d2[team1][team2] = {'weight': w}\n",
    "\n",
    "g = nx.from_dict_of_dicts(d2)\n",
    "p = com.best_partition(g)\n",
    "\n",
    "trade_labels = [p[team] for team in teams]"
   ]
  },
  {
   "cell_type": "code",
   "execution_count": 9,
   "metadata": {
    "collapsed": false,
    "deletable": true,
    "editable": true
   },
   "outputs": [],
   "source": [
    "# get in-degrees and out degrees\n",
    "df = pd.read_csv('trades.csv', header=None)\n",
    "df = df.pivot(index=0, columns=1, values=2)\n",
    "df = df.fillna(value=0)\n",
    "vals = []\n",
    "for i in range(len(df.index)):\n",
    "    ws_out = df.iloc[i, :].sum()\n",
    "    ws_in = df.iloc[:, i].sum()\n",
    "    ws_bal = ws_in - ws_out\n",
    "    vals.append([ws_out, ws_in, ws_bal])"
   ]
  },
  {
   "cell_type": "code",
   "execution_count": 10,
   "metadata": {
    "collapsed": false,
    "deletable": true,
    "editable": true
   },
   "outputs": [],
   "source": [
    "# print to csv\n",
    "s = 'Id,Label,TradeCluster,PlayerCluster,Out,In,Bal'\n",
    "for i, team in enumerate(teams):\n",
    "    s += '\\n' + team + ',' + team + ',' + str(trade_labels[i]) + ',' + str(player_labels[i])\n",
    "    s += ',' + str(vals[i][0]) + ',' + str(vals[i][1]) + ',' + str(vals[i][2])\n",
    "f = open('teams.csv', 'w')\n",
    "f.write(s)\n",
    "f.close()"
   ]
  },
  {
   "cell_type": "code",
   "execution_count": null,
   "metadata": {
    "collapsed": true,
    "deletable": true,
    "editable": true
   },
   "outputs": [],
   "source": [
    "### old stuff not needed ###"
   ]
  },
  {
   "cell_type": "code",
   "execution_count": null,
   "metadata": {
    "collapsed": true,
    "deletable": true,
    "editable": true
   },
   "outputs": [],
   "source": [
    "# get the data from trades.csv\n",
    "import pandas as pd\n",
    "import numpy as np\n",
    "\n",
    "df = pd.read_csv('trades.csv', header=None)\n",
    "df = df.pivot(index=0, columns=1, values=2)\n",
    "df = df.clip(lower=0)\n",
    "df = df.fillna(value=0)\n",
    "\n",
    "for i in range(len(df.index)):\n",
    "    for j in range(i, len(df.columns)):\n",
    "        if i == j:\n",
    "            df.iloc[i,j] = np.nan\n",
    "        else:\n",
    "            tot = df.iloc[i, j] + df.iloc[j, i]\n",
    "            df.iloc[i, j] = tot\n",
    "            df.iloc[j, i] = tot\n",
    "df = df.clip(lower=1)\n",
    "#df3 = pd.DataFrame(1 / np.sqrt(df2.values), columns = df2.columns, index=df2.index)\n",
    "df2 = pd.DataFrame(1 / df.values, columns = df.columns, index=df.index)\n",
    "#df3 = pd.DataFrame(1 / np.multiply(df2.values, df2.values), columns = df2.columns, index=df2.index)\n",
    "df2 = df2.fillna(value=0)\n",
    "\n",
    "# cluster the teams with kmeans\n",
    "from sklearn.cluster import KMeans\n",
    "\n",
    "labels = KMeans(n_clusters=6).fit(df2.values).labels_"
   ]
  }
 ],
 "metadata": {
  "kernelspec": {
   "display_name": "Python 3",
   "language": "python",
   "name": "python3"
  },
  "language_info": {
   "codemirror_mode": {
    "name": "ipython",
    "version": 3
   },
   "file_extension": ".py",
   "mimetype": "text/x-python",
   "name": "python",
   "nbconvert_exporter": "python",
   "pygments_lexer": "ipython3",
   "version": "3.5.2"
  }
 },
 "nbformat": 4,
 "nbformat_minor": 2
}
